{
 "cells": [
  {
   "cell_type": "code",
   "execution_count": null,
   "metadata": {},
   "outputs": [],
   "source": [
    "import pandas as pd"
   ]
  },
  {
   "cell_type": "code",
   "execution_count": null,
   "metadata": {},
   "outputs": [],
   "source": [
    "df_taco = pd.read_csv('/content/drive/MyDrive/nutris yolo cnn/V1/TACO_mini.csv', sep=';')"
   ]
  },
  {
   "cell_type": "code",
   "execution_count": null,
   "metadata": {},
   "outputs": [],
   "source": [
    "def retorna_macro(arquivo_label):\n",
    "  df_resultado_imagem = pd.read_csv('/content/drive/MyDrive/nutris yolo cnn/V1/runs/predict12/labels/{0}.txt'.format(arquivo_label), sep=' ', header = None)\n",
    "  df_resultado_imagem.rename(columns={0:'id_alimento'},inplace=True)\n",
    "  df_resultado_imagem['contagem'] = 1\n",
    "  df_resultado_imagem = df_resultado_imagem.groupby('id_alimento').agg({'contagem':'sum'}).reset_index()\n",
    "  df_resultado_imagem_taco = df_resultado_imagem.merge(df_taco, how='left', on='id_alimento')\n",
    "\n",
    "  print('Na sua imagem, encontramos: ')\n",
    "  for index, row in df_resultado_imagem_taco.iterrows():\n",
    "    print(\"{0} {1}, resultando {2} calorias, {3} gordura, {4} proteina, {5} carboidrato para cada 100g do alimento\".format(row.contagem, row.nome_alimento, row.calorias, row.gordura, row.proteina, row.carboidrato))"
   ]
  },
  {
   "cell_type": "code",
   "execution_count": null,
   "metadata": {},
   "outputs": [],
   "source": [
    "retorna_macro('pf1')"
   ]
  }
 ],
 "metadata": {
  "language_info": {
   "name": "python"
  }
 },
 "nbformat": 4,
 "nbformat_minor": 2
}
